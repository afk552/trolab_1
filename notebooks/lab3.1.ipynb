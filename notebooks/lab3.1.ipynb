{
 "cells": [
  {
   "cell_type": "markdown",
   "metadata": {},
   "source": [
    "# Лабораторная работа 3.1"
   ]
  },
  {
   "cell_type": "markdown",
   "metadata": {},
   "source": [
    "## Счастливый билетик\n",
    "\n",
    "![](http://f2.mylove.ru/UNiHT7dRJ4.jpg)\n",
    "\n",
    "Билет считается счастливым, если выполнено следующее условие: сумма первых трёх цифр номера равна сумме последних трёх цифр.\n",
    "\n",
    "**Задание:**\n",
    "\n",
    "1) Определите число `ticket_number` — шестизначный номер билета;\n",
    "\n",
    "2) Напишите код, который по шестизначному номеру `ticket_number` билетика проверяет, является ли он счастливым;\n",
    "\n",
    "3) Если номер счастливый, выведите строку `Yes`, иначе — `No`.\n",
    "\n",
    "---\n",
    "\n",
    "**Пример 1:**\n",
    "\n",
    "*Input:* 123456\n",
    "\n",
    "*Output:* No\n",
    "\n",
    "\n",
    "**Пример 2:**\n",
    "\n",
    "*Input:* 123042\n",
    "\n",
    "*Output:* Yes"
   ]
  },
  {
   "cell_type": "markdown",
   "metadata": {},
   "source": [
    "## Решение:"
   ]
  },
  {
   "cell_type": "code",
   "execution_count": 1,
   "metadata": {},
   "outputs": [
    {
     "name": "stdout",
     "output_type": "stream",
     "text": [
      "Yes\n",
      "No\n"
     ]
    }
   ],
   "source": [
    "def isLucky(ticket):\n",
    "    id = str(ticket)\n",
    "    sum1, sum2 = 0, 0\n",
    "    if len(id) == 6:\n",
    "        for index, elem in enumerate(id):\n",
    "            if index < 3:\n",
    "                sum1 += int(elem)\n",
    "            else:\n",
    "                sum2 += int(elem)\n",
    "        if sum1 == sum2:\n",
    "            print(\"Yes\")\n",
    "        else:\n",
    "            print(\"No\")\n",
    "    else:\n",
    "        print(\"Номер билета должен состоять из 6-ти цифр!\")\n",
    "        \n",
    "ticket_number = 111111\n",
    "isLucky(ticket_number)\n",
    "\n",
    "ticket_number = 534854\n",
    "isLucky(ticket_number)"
   ]
  },
  {
   "cell_type": "markdown",
   "metadata": {},
   "source": [
    "## Пароль\n",
    "\n",
    "![](http://forum.ixbt.com/post.cgi?id=attach:77:14138:1341:1)\n",
    "\n",
    "Пусть пароль может содержать только латинские буквы, знаки препинания и цифры.\n",
    "\n",
    "Пароль считается надёжным, если удовлетворяет следующим условиям:\n",
    "- содержит буквы в разных регистрах;\n",
    "- содержит цифры;\n",
    "- содержит не менее `4` уникальных символов;\n",
    "- не содержит ваше имя латинницей, записанное буквами любых регистров (anna, iVan, ...).\n",
    "\n",
    "Иначе пароль считается слабым.\n",
    "\n",
    "**Задание:**\n",
    "\n",
    "1) Определите строку `password` — придуманный вами пароль;\n",
    "\n",
    "2) Напишите код, который по паролю `password` проверяет, является ли он надёжным;\n",
    "\n",
    "3) Если пароль надёжный, выведите строку `strong`, иначе — `weak`.\n",
    "\n",
    "\n",
    "---\n",
    "\n",
    "Пусть имя пользоватея -- Андрей.\n",
    "\n",
    "**Пример 1:**\n",
    "\n",
    "*Input:* Aandrei123\n",
    "\n",
    "*Output:* weak\n",
    "\n",
    "\n",
    "**Пример 2:**\n",
    "\n",
    "*Input:* an12dRei\n",
    "\n",
    "*Output:* strong"
   ]
  },
  {
   "cell_type": "markdown",
   "metadata": {},
   "source": [
    "## Решение:"
   ]
  },
  {
   "cell_type": "code",
   "execution_count": 2,
   "metadata": {},
   "outputs": [
    {
     "name": "stdout",
     "output_type": "stream",
     "text": [
      "strong\n",
      "Символы разных регистров:  True\n",
      "Содержит цифры:  True\n",
      "Не менее 4-х уникальных символов:  True\n",
      "Не содержит имени:  True\n",
      "weak\n",
      "Символы разных регистров:  True\n",
      "Содержит цифры:  True\n",
      "Не менее 4-х уникальных символов:  True\n",
      "Не содержит имени:  False\n"
     ]
    }
   ],
   "source": [
    "def isStrong(pwd, nme):\n",
    "    if len(pwd) > 0:\n",
    "        diff_reg = False\n",
    "        contain_numbers = False\n",
    "        unique_symb = False\n",
    "        not_a_name = False\n",
    "        upp, dwn = 0, 0\n",
    "        for i in pwd:\n",
    "            if i.isupper() == True:\n",
    "                upp += 1\n",
    "            else:\n",
    "                dwn += 1\n",
    "        if upp > 0 and dwn > 0:\n",
    "            diff_reg = True\n",
    "        numbers = ['1', '2', '3', '4', '5', '6', '7', '8', '9']\n",
    "        for i in pwd:\n",
    "            if i in numbers:\n",
    "                contain_numbers = True\n",
    "        pwd_lower = pwd.lower()\n",
    "        if (len(set(pwd_lower))) >= 4:\n",
    "            unique_symb = True\n",
    "        if not(nme.lower() in pwd.lower()):\n",
    "            not_a_name = True\n",
    "        if diff_reg == True and contain_numbers == True and unique_symb == True and not_a_name == True:\n",
    "            print(\"strong\")\n",
    "        else:\n",
    "            print(\"weak\")\n",
    "\n",
    "        print(\"Символы разных регистров: \", diff_reg)\n",
    "        print(\"Содержит цифры: \", contain_numbers)\n",
    "        print(\"Не менее 4-х уникальных символов: \", unique_symb)\n",
    "        print(\"Не содержит имени: \", not_a_name)\n",
    "    else:\n",
    "        print(\"Пароль не может быть пустым!\")\n",
    "        \n",
    "password = \"AbCdEfI232\"\n",
    "name = \"Andrei\"\n",
    "isStrong(password, name)\n",
    "\n",
    "password = \"andreiiibdEf232\"\n",
    "name = \"Andrei\"\n",
    "isStrong(password, name)"
   ]
  },
  {
   "cell_type": "markdown",
   "metadata": {},
   "source": [
    "## Числа Фибоначчи\n",
    "Как известно, [числа Фибоначчи](https://ru.wikipedia.org/wiki/%D0%A7%D0%B8%D1%81%D0%BB%D0%B0_%D0%A4%D0%B8%D0%B1%D0%BE%D0%BD%D0%B0%D1%87%D1%87%D0%B8) — это последовательность чисел, каждое из которых равно сумме двух предыдущих (первые два числа равны $1$):\n",
    "$$\n",
    "    1, 1, 2, 3, 5, 8, 13, \\ldots\n",
    "$$\n",
    "\n",
    "**Задание:**\n",
    "\n",
    "1) Определите число `amount` — количество чисел Фибоначчи, которые надо вывести;\n",
    "\n",
    "2) Напишите код, который выводит первые `amount` чисел Фибоначчи.\n",
    "\n",
    "---\n",
    "\n",
    "**Пример 1:**\n",
    "\n",
    "*Input:* 3\n",
    "\n",
    "*Output:* 1 1 2\n",
    "\n",
    "\n",
    "**Пример 2:**\n",
    "\n",
    "*Input:* 10\n",
    "\n",
    "*Output:* 1 1 2 3 5 8 13 21 34 55\n"
   ]
  },
  {
   "cell_type": "markdown",
   "metadata": {},
   "source": [
    "## Решение:"
   ]
  },
  {
   "cell_type": "code",
   "execution_count": 3,
   "metadata": {},
   "outputs": [
    {
     "name": "stdout",
     "output_type": "stream",
     "text": [
      "1 1 2 3 5 8 13 21 34 55 "
     ]
    }
   ],
   "source": [
    "def fib(n):\n",
    "    if n in (1, 2):\n",
    "        return 1\n",
    "    return (fib(n - 1) + fib(n - 2))\n",
    "                             \n",
    "amount = 10\n",
    "for i in range(1, amount + 1):\n",
    "    print(fib(i), end=' ')"
   ]
  },
  {
   "cell_type": "markdown",
   "metadata": {},
   "source": [
    "## Время исследований\n",
    "\n",
    "![](https://2.bp.blogspot.com/-VOT5x12UqPY/WSh53tQ94HI/AAAAAAAAAMY/-nlcz28_Fj4UzJjbn4bBINKCnzwag1W4QCLcB/s1600/my-pic-widget.jpg)\n",
    "\n",
    "На сайте https://www.kaggle.com/ выберите любой набор данных в формате CSV и проведите для него маленькое исследование: загрузите данные из набора с использованием стандартного модуля `csv`, посмотрите средние значения и стандартные отклонения двух выбранных числовых атрибутов, найдите [методом наименьших квадратов](https://ru.wikipedia.org/wiki/%D0%9C%D0%B5%D1%82%D0%BE%D0%B4_%D0%BD%D0%B0%D0%B8%D0%BC%D0%B5%D0%BD%D1%8C%D1%88%D0%B8%D1%85_%D0%BA%D0%B2%D0%B0%D0%B4%D1%80%D0%B0%D1%82%D0%BE%D0%B2) уравнение линейной зависимости, связывающей один числовой атрибут с другим. Для оценки заданной зависимости найдите [коэффициент парной корреляции](https://ru.wikipedia.org/wiki/%D0%9A%D0%BE%D1%80%D1%80%D0%B5%D0%BB%D1%8F%D1%86%D0%B8%D1%8F), сделайте соответствующие выводы.\n",
    "\n",
    "**Результаты надо обязательно прокомментировать и пояснить!**\n",
    "\n",
    "---\n",
    "\n",
    "**Пример 1:**\n",
    "\n",
    "Пусть таблица `bikes.csv` содержит данные по арендам велосипедов за $2$ года:\n",
    "- `datetime`: дата и время аренды\n",
    "- `season`: время года\n",
    "- `temp`: температура воздуха по Цельсию\n",
    "- `windspeed`: скорость ветра \n",
    "- `registered`: число аренд\n",
    "\n",
    "Одно из направлений исследования могло бы заключаться в проверке зависимости суммарного числа аренд от температуры воздуха."
   ]
  },
  {
   "cell_type": "markdown",
   "metadata": {},
   "source": [
    "*в такой ячейке (режим Markdown) можно писать текст*"
   ]
  },
  {
   "cell_type": "markdown",
   "metadata": {},
   "source": [
    "## Набор данных\n",
    "<br>\n",
    "<font size = '4'>\n",
    "Выбранный набор данных содержит статистику по игровым стримам на Twitch.<br>\n",
    "<br> <b> Для анализа я выбрал два показателя:</b> Пиковое число каналов, стримящих игру и пиковое число зрителей стримов по ней.\n",
    "</font>"
   ]
  },
  {
   "cell_type": "markdown",
   "metadata": {},
   "source": [
    "## Импорт данных:"
   ]
  },
  {
   "cell_type": "code",
   "execution_count": 4,
   "metadata": {},
   "outputs": [],
   "source": [
    "import csv\n",
    "import numpy as np\n",
    "import matplotlib.pyplot as plt\n",
    "import pandas as pd\n",
    "from math import sqrt\n",
    "\n",
    "data = []\n",
    "x = []\n",
    "y = []\n",
    "\n",
    "df = pd.read_csv('Twitch_game_data.csv', encoding=\"cp1252\")\n",
    "\n",
    "with open(\"Twitch_game_data.csv\", encoding='cp1252') as f:\n",
    "    reader = csv.DictReader(f, dialect='excel')\n",
    "    for row in reader:\n",
    "        data.append(row)\n",
    "\n",
    "for i in data:\n",
    "        x.append(int(i.get('Peak_viewers')))\n",
    "        y.append(int(i.get('Peak_channels')))"
   ]
  },
  {
   "cell_type": "markdown",
   "metadata": {},
   "source": [
    "## Средние значения показателей:"
   ]
  },
  {
   "cell_type": "code",
   "execution_count": 5,
   "metadata": {},
   "outputs": [
    {
     "name": "stdout",
     "output_type": "stream",
     "text": [
      "Средние значения: \n",
      "X:  55095.117847222224\n",
      "Y:  586.7592361111111\n",
      "Проверка: \n",
      "X:  55095.117847222224\n",
      "Y:  586.7592361111111\n"
     ]
    }
   ],
   "source": [
    "def average(lst):\n",
    "    return sum(lst) / len(lst)\n",
    "\n",
    "print(\"Средние значения: \")\n",
    "print(\"X: \", average(x))\n",
    "print(\"Y: \", average(y))\n",
    "\n",
    "print(\"Проверка: \")\n",
    "print(\"X: \", np.mean(x))\n",
    "print(\"Y: \", np.mean(y))"
   ]
  },
  {
   "cell_type": "markdown",
   "metadata": {},
   "source": [
    "## Стандартные отклонения показателей:"
   ]
  },
  {
   "cell_type": "code",
   "execution_count": 6,
   "metadata": {},
   "outputs": [
    {
     "name": "stdout",
     "output_type": "stream",
     "text": [
      "Стандартные отклонения: \n",
      "132908.80199979182\n",
      "2721.316593865302\n",
      "Проверка: \n",
      "132908.80199979153\n",
      "2721.3165938653\n"
     ]
    }
   ],
   "source": [
    "def std_deviation(lst):\n",
    "    for i in lst:\n",
    "        return (sum((x-(sum(lst) / len(lst))) ** 2 for x in lst) / len(lst)) ** 0.5\n",
    "\n",
    "print(\"Стандартные отклонения: \")\n",
    "print(std_deviation(x))\n",
    "print(std_deviation(y))\n",
    "\n",
    "print(\"Проверка: \")\n",
    "print(np.std(x))\n",
    "print(np.std(y))"
   ]
  },
  {
   "cell_type": "markdown",
   "metadata": {},
   "source": [
    "## Уравнение линейной зависимости:"
   ]
  },
  {
   "cell_type": "code",
   "execution_count": 7,
   "metadata": {},
   "outputs": [
    {
     "name": "stdout",
     "output_type": "stream",
     "text": [
      "5.530787385449832e-10\n",
      "0.010893441340323405\n",
      "y = 5.530787385449832e-10 + 0.010893441340323405 * x\n"
     ]
    }
   ],
   "source": [
    "def linear_reg_eq(lst_x, lst_y):\n",
    "    y_predicted = []\n",
    "    sum_sq_xi, x_mult_y = 0, 0\n",
    "    sum_xi, sum_yi = sum(lst_x), sum(lst_y)\n",
    "    n = len(x)\n",
    "    \n",
    "    sum_sq_xi = sum([lst_x[i] ** 2 for i in range(n)])\n",
    "    x_mult_y = sum([lst_x[i] * lst_y[i] for i in range(n)])\n",
    "    \n",
    "    a = ((sum_yi * sum_sq_xi) - (sum_xi * x_mult_y)) / ((n * sum_sq_xi) - (sum_sq_xi * sum_sq_xi))\n",
    "    b = ((n * x_mult_y) - (sum_xi * sum_yi)) / ((n * sum_sq_xi) - (sum_xi * sum_xi))\n",
    "    \n",
    "    for elem in lst_x:\n",
    "        y_predicted.append(((a + b) * elem))\n",
    "    \n",
    "    print(a)\n",
    "    print(b)\n",
    "    print(f\"y = {a} + {b} * x\")\n",
    "    return y_predicted\n",
    "    \n",
    "y_pred = linear_reg_eq(x, y)\n",
    "    "
   ]
  },
  {
   "cell_type": "markdown",
   "metadata": {},
   "source": [
    "## Коэффициент парной корелляции:"
   ]
  },
  {
   "cell_type": "code",
   "execution_count": 8,
   "metadata": {},
   "outputs": [
    {
     "name": "stdout",
     "output_type": "stream",
     "text": [
      "Коэффициент парной корреляции: 0.5320344723804856\n",
      "Проверка:  0.5320344723804865\n"
     ]
    }
   ],
   "source": [
    "def pair_corell(lst_x, lst_y):\n",
    "    cov = 0\n",
    "    avrg_x, avrg_y = average(lst_x), average(lst_y)\n",
    "\n",
    "    deviat_x = sum((num - avrg_x)**2 for num in lst_x)\n",
    "    deviat_y = sum((num - avrg_y)**2 for num in lst_y)\n",
    "    \n",
    "    cov = sum([(num - avrg_x)*(lst_y[index] - avrg_y) for index, num in enumerate(lst_x)])\n",
    "    \n",
    "    cor_coef = cov / sqrt(deviat_x * deviat_y)\n",
    "    print(f\"Коэффициент парной корреляции: {cor_coef}\")\n",
    "\n",
    "pair_corell(x,y)\n",
    "print(\"Проверка: \", df['Peak_viewers'].corr(df['Peak_channels']))"
   ]
  },
  {
   "cell_type": "markdown",
   "metadata": {},
   "source": [
    "## Визуализация:"
   ]
  },
  {
   "cell_type": "code",
   "execution_count": 9,
   "metadata": {},
   "outputs": [
    {
     "data": {
      "image/png": "[encoded data removed]",
      "text/plain": [
       "<Figure size 640x480 with 1 Axes>"
      ]
     },
     "metadata": {},
     "output_type": "display_data"
    }
   ],
   "source": [
    "plt.plot(x, y_pred)\n",
    "plt.scatter(x, y_pred)\n",
    "plt.scatter(x, y)\n",
    "plt.ylim(0, 40000)\n",
    "plt.xlabel('Peak_viewers')\n",
    "plt.ylabel('Peak_channels')\n",
    "plt.show()"
   ]
  },
  {
   "cell_type": "markdown",
   "metadata": {},
   "source": [
    "# Вывод:\n",
    "\n",
    "<font size=\"4\"> Парный коэффициент корелляции равен 0.53, значит зависимость между показателями - средняя. Показатель пикового числа каналов, стримящих игру мало зависит от пикового числа зрителей со всех стримов по данной игре, так как их, очевидно, намного больше в количестве. </font>"
   ]
  }
 ],
 "metadata": {
  "anaconda-cloud": {},
  "kernelspec": {
   "display_name": "Python 3 (ipykernel)",
   "language": "python",
   "name": "python3"
  },
  "language_info": {
   "codemirror_mode": {
    "name": "ipython",
    "version": 3
   },
   "file_extension": ".py",
   "mimetype": "text/x-python",
   "name": "python",
   "nbconvert_exporter": "python",
   "pygments_lexer": "ipython3",
   "version": "3.9.13"
  },
  "vscode": {
   "interpreter": {
    "hash": "ff4f85d6e04298634172ac5d8264e7e9b556b95639fe52ebb9425c4d4cba0c9c"
   }
  }
 },
 "nbformat": 4,
 "nbformat_minor": 1
}
