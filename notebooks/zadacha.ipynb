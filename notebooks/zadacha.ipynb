{
 "cells": [
  {
   "attachments": {},
   "cell_type": "markdown",
   "id": "6282c6f6",
   "metadata": {},
   "source": [
    "### <b> Задача: </b>\n",
    "##### Кислород массой m=2 кг занимает объем $ V_{1} = 1м^{3} $ и находится под давлением $ p_{1}=0.2 \\ мПа $. Газ был нагрет сначала при постоянном давлении до объема $ V_{2} = 3 \\ м^{3} $, а затем при постоянном объеме до давления $ p_{3} = 0,5 \\ МПа $.\n",
    "\n",
    "**Найти:**\n",
    "<font size=\"3\">\n",
    "1) изменение внутренней энергии ΔU газа;<br>\n",
    "2) совершенную им работу A и количество теплоты Q, переданное газу;<br>\n",
    "3) построить график процесса.<br>\n",
    "</font>"
   ]
  },
  {
   "attachments": {},
   "cell_type": "markdown",
   "id": "b17a5baa",
   "metadata": {},
   "source": [
    "***\n",
    "<b>Дано:</b> <br>\n",
    "$ m = 2 \\ кг $ <br>\n",
    "$ V_{1} = 1 \\ м^{3} $ <br>\n",
    "$ p_{1}=p_{2}=2\\cdot 10^{5} \\ Па $ <br>\n",
    "$ V_{2} = 3м^{3} $ <br>\n",
    "$ p_{3}=5 \\cdot 10^{5} \\ Па $ <br>\n",
    "\n",
    "<b>Найти:</b> <br>\n",
    "$ \\Delta U - ? $\n",
    "$ A - ? $\n",
    "$ Q - ? $\n",
    "***"
   ]
  },
  {
   "cell_type": "code",
   "execution_count": 1,
   "id": "44136c37",
   "metadata": {},
   "outputs": [],
   "source": [
    "# Исходные данные\n",
    "m = 2\n",
    "v1 = 1\n",
    "v2 = 3\n",
    "v3 = 3\n",
    "p1 = 0.2 * 10**6\n",
    "p2 = 0.2 * 10**6\n",
    "p3 = 0.5 * 10**6"
   ]
  },
  {
   "cell_type": "markdown",
   "id": "235b6eb1",
   "metadata": {},
   "source": [
    "### Для решения этой задачи необходимы формулы из термодинамики.\n",
    "\n",
    "<b>Внутренняя энергия тела </b> – это сумма кинетической энергии хаотического теплового движения частиц (атомов и молекул) тела и потенциальной энергии их взаимодействия. <br>\n",
    "Изменение внутренней энергии газа выражается основной формулой:\n",
    "$$\\Delta U\\ = \\frac{i}{2}\\cdot \\frac{m}{M}R\\Delta T ,$$ \n",
    "где i - число степеней свободы молекул газа (i = 3 для одноатомного, i = 5 - двухатомный); M - молярная масса, m – масса.\n",
    "\n",
    "Имеем двухатомный газ, следовательно, изменение внутр. энергии из состояний 1 в 3:\n",
    "$$ \\Delta U\\ = \\frac{m}{M}\\ \\cdot \\frac{5R}{2}(T_{3}-T_{1})$$\n",
    "\n",
    "Из уравнения Менделеева-Клапейрона:\n",
    "$$ pV = \\frac{m}{M} RT, $$\n",
    "тогда выражение преобразуется:\n",
    "$$ \\Delta U\\ = \\frac{5}{2}\\ (p_{3}V_{2} - p_{1}V_{1}) $$\n",
    "\n"
   ]
  },
  {
   "cell_type": "code",
   "execution_count": 2,
   "id": "0a951f74",
   "metadata": {},
   "outputs": [
    {
     "name": "stdout",
     "output_type": "stream",
     "text": [
      "Внутренняя энергия газа: 3250000.0\n"
     ]
    }
   ],
   "source": [
    "deltaU = 5/m*(p3*v2 - p1*v1)\n",
    "print(\"Внутренняя энергия газа:\", deltaU)"
   ]
  },
  {
   "cell_type": "markdown",
   "id": "bd9ee8fa",
   "metadata": {},
   "source": [
    "<b> Работа газа </b> - это результат взаимодействия системы с внешними объектами, в результате чего изменяются параметры системы. <br>\n",
    "Общая работа газа: $$ A = A_{12} + A_{23} $$\n",
    "\n",
    "<b> Рассмотрим состояния на участках: </b> <br>\n",
    "<i>Состояние 1-2</i>: постоянное давление, значит работа расширения газа выражается формулой:\n",
    "$$ A_{1} = \\frac{m}{M}RT=\\frac{m}{M}R(T_{2}-T_{1}) $$\n",
    "<i>Состояние 2-3</i>: постоянный объем, работа газа $$ A_{2} = 0 $$\n",
    "\n",
    "Следовательно, работа газа равна:\n",
    "$$ A = A_{12} = p_{1}(V_{2}-V_{1}) $$"
   ]
  },
  {
   "cell_type": "code",
   "execution_count": 3,
   "id": "f1a1900e",
   "metadata": {},
   "outputs": [
    {
     "name": "stdout",
     "output_type": "stream",
     "text": [
      "Работа газа: 400000.0 Дж\n"
     ]
    }
   ],
   "source": [
    "A = p1*(v2-v1)\n",
    "print(\"Работа газа:\", A, \"Дж\")"
   ]
  },
  {
   "cell_type": "markdown",
   "id": "9023142a",
   "metadata": {},
   "source": [
    "<b> Количество теплоты </b> можно найти из первого закона термодинамики: теплота передаваемая газу равна сумме изменения внутренней энергии:\n",
    "$$ Q = \\Delta U+A $$"
   ]
  },
  {
   "cell_type": "code",
   "execution_count": 4,
   "id": "734ff8c4",
   "metadata": {},
   "outputs": [
    {
     "name": "stdout",
     "output_type": "stream",
     "text": [
      "Количество теплоты: 3650000.0 Дж\n"
     ]
    }
   ],
   "source": [
    "Q = deltaU + A\n",
    "print(\"Количество теплоты:\", Q, \"Дж\")"
   ]
  },
  {
   "cell_type": "code",
   "execution_count": 5,
   "id": "6d753a88",
   "metadata": {},
   "outputs": [
    {
     "data": {
      "image/png": "[encoded data removed]",
      "text/plain": [
       "<Figure size 640x480 with 1 Axes>"
      ]
     },
     "metadata": {},
     "output_type": "display_data"
    }
   ],
   "source": [
    "# График процесса pV\n",
    "import matplotlib.pyplot as plt\n",
    "p_values = [p1 / 10**5, p2 / 10**5, p3 / 10**5]\n",
    "v_values = [v1, v2, v3]\n",
    "plt.grid()\n",
    "plt.title('График процесса изменения состояния газа')\n",
    "plt.xlabel('V, м^3.')\n",
    "plt.ylabel('P, Па.')\n",
    "plt.plot(v_values, p_values)\n",
    "plt.scatter(v_values, p_values)\n",
    "plt.show()"
   ]
  },
  {
   "cell_type": "markdown",
   "id": "a005fd98",
   "metadata": {},
   "source": [
    "### <b> Код полностью: </b>"
   ]
  },
  {
   "cell_type": "code",
   "execution_count": 6,
   "id": "2b01e72f",
   "metadata": {},
   "outputs": [
    {
     "name": "stdout",
     "output_type": "stream",
     "text": [
      "Внутренняя энергия газа: 3250000.0\n",
      "Работа газа: 400000.0 Дж\n",
      "Количество теплоты: 3650000.0 Дж\n"
     ]
    },
    {
     "data": {
      "image/png": "[encoded data removed]",
      "text/plain": [
       "<Figure size 640x480 with 1 Axes>"
      ]
     },
     "metadata": {},
     "output_type": "display_data"
    }
   ],
   "source": [
    "# Исходные данные\n",
    "m = 2\n",
    "v1 = 1\n",
    "v2 = 3\n",
    "v3 = 3\n",
    "p1 = 0.2 * 10**6\n",
    "p2 = 0.2 * 10**6\n",
    "p3 = 0.5 * 10**6\n",
    "\n",
    "deltaU = 5/m*(p3*v2 - p1*v1)\n",
    "print(\"Внутренняя энергия газа:\", deltaU)\n",
    "\n",
    "A = p1*(v2-v1)\n",
    "print(\"Работа газа:\", A, \"Дж\")\n",
    "\n",
    "Q = deltaU + A\n",
    "print(\"Количество теплоты:\", Q, \"Дж\")\n",
    "\n",
    "# График процесса pV\n",
    "import matplotlib.pyplot as plt\n",
    "p_values = [p1 / 10**5, p2 / 10**5, p3 / 10**5]\n",
    "v_values = [v1, v2, v3]\n",
    "plt.grid()\n",
    "plt.title('График процесса изменения состояния газа')\n",
    "plt.xlabel('V, м^3.')\n",
    "plt.ylabel('P, МПа.')\n",
    "plt.plot(v_values, p_values)\n",
    "plt.scatter(v_values, p_values)\n",
    "plt.show()"
   ]
  },
  {
   "cell_type": "code",
   "execution_count": null,
   "id": "f558a35b",
   "metadata": {},
   "outputs": [],
   "source": []
  }
 ],
 "metadata": {
  "kernelspec": {
   "display_name": "Python 3 (ipykernel)",
   "language": "python",
   "name": "python3"
  },
  "language_info": {
   "codemirror_mode": {
    "name": "ipython",
    "version": 3
   },
   "file_extension": ".py",
   "mimetype": "text/x-python",
   "name": "python",
   "nbconvert_exporter": "python",
   "pygments_lexer": "ipython3",
   "version": "3.9.13"
  },
  "vscode": {
   "interpreter": {
    "hash": "ff4f85d6e04298634172ac5d8264e7e9b556b95639fe52ebb9425c4d4cba0c9c"
   }
  }
 },
 "nbformat": 4,
 "nbformat_minor": 5
}
